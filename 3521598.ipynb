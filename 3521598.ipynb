{
 "cells": [
  {
   "cell_type": "markdown",
   "metadata": {
    "collapsed": false
   },
   "source": [
    "# ERNIE模型初尝试\n",
    "\n",
    "## 项目介绍\n",
    "\n",
    "项目目的：使用飞桨已有的官方套件，初步实现一个粗略的相似问题回复功能。\n",
    "\n",
    "# 数据介绍\n",
    "选择飞桨自带的baike_qa2019 百科类问答json版数据集（链接：https://aistudio.baidu.com/aistudio/competition/detail/63/0/task-definition）\n",
    "数据集为压缩文件，解压后有2个子文件。训练数据集baike_qa_train.json和测试数据集baike_qa_valid.json。\n",
    "\n",
    "每条训练数据是一个字典形式，key有5个：qid问答id，category问答划分的类别(如教育/科学-理工学科-地球科学)，title问题，desc问题描述，answer回答，如下所示：\n",
    "{'qid': 'qid_5982723620932473219', 'category': '教育/科学-理工学科-地球科学', 'title': '人站在地球上为什么没有头朝下的感觉 ', 'desc': '', 'answer': '地球上重力作用一直是指向球心的，因此\\r\\n只要头远离球心，人们就回感到头朝上。'} \n",
    "\n",
    "# 模型介绍\n",
    "计划：通过计算文本相似性来进行问题匹配，返回和输入最大相似的问题的回复\n",
    "\n",
    "由于：目前对飞桨了解不够充分，没有找到合适的模型。通过在项目集搜索，找到了使用paddlehub的ERNIE-GEN进行问答系统搭建的项目。\n",
    "\n",
    "ERNIE的github网址为 https://github.com/PaddlePaddle/ERNIE ，里面介绍：ERNIE在工业界得到了大规模应用，如搜索引擎、新闻推荐、广告系统、语音交互、智能客服等。\n",
    "而2020.5开源的 ERNIE-GEN 模型是最强文本生成预训练模型。\n",
    "\n",
    "所以ernie-gen可能更偏向于文本生成，非返回原有的资源库结果。但是目前没有发现可用的官方套件，所以想用ernie-gen尝试一下。"
   ]
  },
  {
   "cell_type": "code",
   "execution_count": 1,
   "metadata": {
    "collapsed": false
   },
   "outputs": [
    {
     "name": "stdout",
     "output_type": "stream",
     "text": [
      "baike_qa_train.json  baike_qa_valid.json  百科类问答json版.zip\r\n"
     ]
    }
   ],
   "source": [
    "# 1.1 查看工作区文件, 该目录下的变更将会持久保存. 请及时清理不必要的文件, 避免加载过慢.\n",
    "# !ls /home/aistudio/work\n",
    "\n",
    "# 1.2 解压挂载的数据集在同级目录下\n",
    "!unzip -oq data/data107726/百科类问答json版.zip -d data/data107726/\n",
    "\n",
    "# 1.3 查看当前挂载的数据集目录, 该目录下的变更重启环境后会自动还原\n",
    "!ls /home/aistudio/data/data107726"
   ]
  },
  {
   "cell_type": "code",
   "execution_count": null,
   "metadata": {
    "collapsed": false
   },
   "outputs": [],
   "source": [
    "# 1.4 持久化安装, 需要使用持久化路径\n",
    "# !mkdir /home/aistudio/external-libraries\n",
    "# !pip install paddle-ernie -t /home/aistudio/external-libraries\n",
    "# !pip install paddlehub==2.1.1 -t /home/aistudio/external-libraries\n",
    "\n",
    "# 1.5 持久化安装后，添加如下代码, 这样每次环境(kernel)启动的时候只要运行下方代码即可: \n",
    "# import sys \n",
    "# sys.path.append('/home/aistudio/external-libraries')"
   ]
  },
  {
   "cell_type": "code",
   "execution_count": 2,
   "metadata": {
    "collapsed": true
   },
   "outputs": [
    {
     "name": "stdout",
     "output_type": "stream",
     "text": [
      "Looking in indexes: https://pypi.tuna.tsinghua.edu.cn/simple\n",
      "Collecting paddlehub==2.1.1\n",
      "  Downloading https://pypi.tuna.tsinghua.edu.cn/packages/df/b4/7d0e0229e116a62e58a7d05b29733ea7917c2a76ef761be3f0c666ad26a7/paddlehub-2.1.1-py3-none-any.whl (211 kB)\n",
      "     |████████████████████████████████| 211 kB 7.6 MB/s            \n",
      "\u001b[?25hRequirement already satisfied: gitpython in /opt/conda/envs/python35-paddle120-env/lib/python3.7/site-packages (from paddlehub==2.1.1) (3.1.14)\n",
      "Requirement already satisfied: pyyaml in /opt/conda/envs/python35-paddle120-env/lib/python3.7/site-packages (from paddlehub==2.1.1) (5.1.2)\n",
      "Requirement already satisfied: pyzmq in /opt/conda/envs/python35-paddle120-env/lib/python3.7/site-packages (from paddlehub==2.1.1) (22.3.0)\n",
      "Collecting paddle2onnx>=0.5.1\n",
      "  Downloading https://pypi.tuna.tsinghua.edu.cn/packages/91/b9/c87d6c35f946a965b72ebccb078ec9e43016749f4aa3cd5eb9297c8199b3/paddle2onnx-0.9.1-py3-none-any.whl (95 kB)\n",
      "     |████████████████████████████████| 95 kB 7.2 MB/s             \n",
      "\u001b[?25hRequirement already satisfied: tqdm in /opt/conda/envs/python35-paddle120-env/lib/python3.7/site-packages (from paddlehub==2.1.1) (4.27.0)\n",
      "Requirement already satisfied: gunicorn>=19.10.0 in /opt/conda/envs/python35-paddle120-env/lib/python3.7/site-packages (from paddlehub==2.1.1) (20.0.4)\n",
      "Requirement already satisfied: colorama in /opt/conda/envs/python35-paddle120-env/lib/python3.7/site-packages (from paddlehub==2.1.1) (0.4.4)\n",
      "Requirement already satisfied: rarfile in /opt/conda/envs/python35-paddle120-env/lib/python3.7/site-packages (from paddlehub==2.1.1) (3.1)\n",
      "Requirement already satisfied: Pillow in /opt/conda/envs/python35-paddle120-env/lib/python3.7/site-packages (from paddlehub==2.1.1) (8.2.0)\n",
      "Requirement already satisfied: paddlenlp>=2.0.0rc5 in /opt/conda/envs/python35-paddle120-env/lib/python3.7/site-packages (from paddlehub==2.1.1) (2.1.1)\n",
      "Requirement already satisfied: filelock in /opt/conda/envs/python35-paddle120-env/lib/python3.7/site-packages (from paddlehub==2.1.1) (3.0.12)\n",
      "Requirement already satisfied: numpy in /opt/conda/envs/python35-paddle120-env/lib/python3.7/site-packages (from paddlehub==2.1.1) (1.19.5)\n",
      "Requirement already satisfied: colorlog in /opt/conda/envs/python35-paddle120-env/lib/python3.7/site-packages (from paddlehub==2.1.1) (4.1.0)\n",
      "Requirement already satisfied: easydict in /opt/conda/envs/python35-paddle120-env/lib/python3.7/site-packages (from paddlehub==2.1.1) (1.9)\n",
      "Requirement already satisfied: flask>=1.1.0 in /opt/conda/envs/python35-paddle120-env/lib/python3.7/site-packages (from paddlehub==2.1.1) (1.1.1)\n",
      "Requirement already satisfied: matplotlib in /opt/conda/envs/python35-paddle120-env/lib/python3.7/site-packages (from paddlehub==2.1.1) (2.2.3)\n",
      "Requirement already satisfied: packaging in /opt/conda/envs/python35-paddle120-env/lib/python3.7/site-packages (from paddlehub==2.1.1) (21.3)\n",
      "Requirement already satisfied: visualdl>=2.0.0 in /opt/conda/envs/python35-paddle120-env/lib/python3.7/site-packages (from paddlehub==2.1.1) (2.2.0)\n",
      "Requirement already satisfied: opencv-python in /opt/conda/envs/python35-paddle120-env/lib/python3.7/site-packages (from paddlehub==2.1.1) (4.1.1.26)\n",
      "Requirement already satisfied: Werkzeug>=0.15 in /opt/conda/envs/python35-paddle120-env/lib/python3.7/site-packages (from flask>=1.1.0->paddlehub==2.1.1) (0.16.0)\n",
      "Requirement already satisfied: itsdangerous>=0.24 in /opt/conda/envs/python35-paddle120-env/lib/python3.7/site-packages (from flask>=1.1.0->paddlehub==2.1.1) (1.1.0)\n",
      "Requirement already satisfied: click>=5.1 in /opt/conda/envs/python35-paddle120-env/lib/python3.7/site-packages (from flask>=1.1.0->paddlehub==2.1.1) (7.0)\n",
      "Requirement already satisfied: Jinja2>=2.10.1 in /opt/conda/envs/python35-paddle120-env/lib/python3.7/site-packages (from flask>=1.1.0->paddlehub==2.1.1) (2.11.0)\n",
      "Requirement already satisfied: setuptools>=3.0 in /opt/conda/envs/python35-paddle120-env/lib/python3.7/site-packages (from gunicorn>=19.10.0->paddlehub==2.1.1) (56.2.0)\n",
      "Collecting onnx<=1.9.0\n",
      "  Downloading https://pypi.tuna.tsinghua.edu.cn/packages/3f/9b/54c950d3256e27f970a83cd0504efb183a24312702deed0179453316dbd0/onnx-1.9.0-cp37-cp37m-manylinux2010_x86_64.whl (12.2 MB)\n",
      "     |████████████████████████████████| 12.2 MB 4.7 MB/s            \n",
      "\u001b[?25hRequirement already satisfied: protobuf in /opt/conda/envs/python35-paddle120-env/lib/python3.7/site-packages (from paddle2onnx>=0.5.1->paddlehub==2.1.1) (3.14.0)\n",
      "Requirement already satisfied: six in /opt/conda/envs/python35-paddle120-env/lib/python3.7/site-packages (from paddle2onnx>=0.5.1->paddlehub==2.1.1) (1.16.0)\n",
      "Requirement already satisfied: h5py in /opt/conda/envs/python35-paddle120-env/lib/python3.7/site-packages (from paddlenlp>=2.0.0rc5->paddlehub==2.1.1) (2.9.0)\n",
      "Requirement already satisfied: multiprocess in /opt/conda/envs/python35-paddle120-env/lib/python3.7/site-packages (from paddlenlp>=2.0.0rc5->paddlehub==2.1.1) (0.70.11.1)\n",
      "Requirement already satisfied: jieba in /opt/conda/envs/python35-paddle120-env/lib/python3.7/site-packages (from paddlenlp>=2.0.0rc5->paddlehub==2.1.1) (0.42.1)\n",
      "Requirement already satisfied: paddlefsl==1.0.0 in /opt/conda/envs/python35-paddle120-env/lib/python3.7/site-packages (from paddlenlp>=2.0.0rc5->paddlehub==2.1.1) (1.0.0)\n",
      "Requirement already satisfied: seqeval in /opt/conda/envs/python35-paddle120-env/lib/python3.7/site-packages (from paddlenlp>=2.0.0rc5->paddlehub==2.1.1) (1.2.2)\n",
      "Requirement already satisfied: requests~=2.24.0 in /opt/conda/envs/python35-paddle120-env/lib/python3.7/site-packages (from paddlefsl==1.0.0->paddlenlp>=2.0.0rc5->paddlehub==2.1.1) (2.24.0)\n",
      "Requirement already satisfied: pre-commit in /opt/conda/envs/python35-paddle120-env/lib/python3.7/site-packages (from visualdl>=2.0.0->paddlehub==2.1.1) (1.21.0)\n",
      "Requirement already satisfied: shellcheck-py in /opt/conda/envs/python35-paddle120-env/lib/python3.7/site-packages (from visualdl>=2.0.0->paddlehub==2.1.1) (0.7.1.1)\n",
      "Requirement already satisfied: bce-python-sdk in /opt/conda/envs/python35-paddle120-env/lib/python3.7/site-packages (from visualdl>=2.0.0->paddlehub==2.1.1) (0.8.53)\n",
      "Requirement already satisfied: flake8>=3.7.9 in /opt/conda/envs/python35-paddle120-env/lib/python3.7/site-packages (from visualdl>=2.0.0->paddlehub==2.1.1) (4.0.1)\n",
      "Requirement already satisfied: Flask-Babel>=1.0.0 in /opt/conda/envs/python35-paddle120-env/lib/python3.7/site-packages (from visualdl>=2.0.0->paddlehub==2.1.1) (1.0.0)\n",
      "Requirement already satisfied: pandas in /opt/conda/envs/python35-paddle120-env/lib/python3.7/site-packages (from visualdl>=2.0.0->paddlehub==2.1.1) (1.1.5)\n",
      "Requirement already satisfied: gitdb<5,>=4.0.1 in /opt/conda/envs/python35-paddle120-env/lib/python3.7/site-packages (from gitpython->paddlehub==2.1.1) (4.0.5)\n",
      "Requirement already satisfied: kiwisolver>=1.0.1 in /opt/conda/envs/python35-paddle120-env/lib/python3.7/site-packages (from matplotlib->paddlehub==2.1.1) (1.1.0)\n",
      "Requirement already satisfied: pytz in /opt/conda/envs/python35-paddle120-env/lib/python3.7/site-packages (from matplotlib->paddlehub==2.1.1) (2019.3)\n",
      "Requirement already satisfied: cycler>=0.10 in /opt/conda/envs/python35-paddle120-env/lib/python3.7/site-packages (from matplotlib->paddlehub==2.1.1) (0.10.0)\n",
      "Requirement already satisfied: pyparsing!=2.0.4,!=2.1.2,!=2.1.6,>=2.0.1 in /opt/conda/envs/python35-paddle120-env/lib/python3.7/site-packages (from matplotlib->paddlehub==2.1.1) (3.0.7)\n",
      "Requirement already satisfied: python-dateutil>=2.1 in /opt/conda/envs/python35-paddle120-env/lib/python3.7/site-packages (from matplotlib->paddlehub==2.1.1) (2.8.2)\n",
      "Requirement already satisfied: pycodestyle<2.9.0,>=2.8.0 in /opt/conda/envs/python35-paddle120-env/lib/python3.7/site-packages (from flake8>=3.7.9->visualdl>=2.0.0->paddlehub==2.1.1) (2.8.0)\n",
      "Requirement already satisfied: mccabe<0.7.0,>=0.6.0 in /opt/conda/envs/python35-paddle120-env/lib/python3.7/site-packages (from flake8>=3.7.9->visualdl>=2.0.0->paddlehub==2.1.1) (0.6.1)\n",
      "Requirement already satisfied: pyflakes<2.5.0,>=2.4.0 in /opt/conda/envs/python35-paddle120-env/lib/python3.7/site-packages (from flake8>=3.7.9->visualdl>=2.0.0->paddlehub==2.1.1) (2.4.0)\n",
      "Requirement already satisfied: importlib-metadata<4.3 in /opt/conda/envs/python35-paddle120-env/lib/python3.7/site-packages (from flake8>=3.7.9->visualdl>=2.0.0->paddlehub==2.1.1) (4.2.0)\n",
      "Requirement already satisfied: Babel>=2.3 in /opt/conda/envs/python35-paddle120-env/lib/python3.7/site-packages (from Flask-Babel>=1.0.0->visualdl>=2.0.0->paddlehub==2.1.1) (2.8.0)\n",
      "Requirement already satisfied: smmap<4,>=3.0.1 in /opt/conda/envs/python35-paddle120-env/lib/python3.7/site-packages (from gitdb<5,>=4.0.1->gitpython->paddlehub==2.1.1) (3.0.5)\n",
      "Requirement already satisfied: MarkupSafe>=0.23 in /opt/conda/envs/python35-paddle120-env/lib/python3.7/site-packages (from Jinja2>=2.10.1->flask>=1.1.0->paddlehub==2.1.1) (2.0.1)\n",
      "Requirement already satisfied: typing-extensions>=3.6.2.1 in /opt/conda/envs/python35-paddle120-env/lib/python3.7/site-packages (from onnx<=1.9.0->paddle2onnx>=0.5.1->paddlehub==2.1.1) (4.0.1)\n",
      "Requirement already satisfied: chardet<4,>=3.0.2 in /opt/conda/envs/python35-paddle120-env/lib/python3.7/site-packages (from requests~=2.24.0->paddlefsl==1.0.0->paddlenlp>=2.0.0rc5->paddlehub==2.1.1) (3.0.4)\n",
      "Requirement already satisfied: idna<3,>=2.5 in /opt/conda/envs/python35-paddle120-env/lib/python3.7/site-packages (from requests~=2.24.0->paddlefsl==1.0.0->paddlenlp>=2.0.0rc5->paddlehub==2.1.1) (2.8)\n",
      "Requirement already satisfied: urllib3!=1.25.0,!=1.25.1,<1.26,>=1.21.1 in /opt/conda/envs/python35-paddle120-env/lib/python3.7/site-packages (from requests~=2.24.0->paddlefsl==1.0.0->paddlenlp>=2.0.0rc5->paddlehub==2.1.1) (1.25.6)\n",
      "Requirement already satisfied: certifi>=2017.4.17 in /opt/conda/envs/python35-paddle120-env/lib/python3.7/site-packages (from requests~=2.24.0->paddlefsl==1.0.0->paddlenlp>=2.0.0rc5->paddlehub==2.1.1) (2019.9.11)\n",
      "Requirement already satisfied: pycryptodome>=3.8.0 in /opt/conda/envs/python35-paddle120-env/lib/python3.7/site-packages (from bce-python-sdk->visualdl>=2.0.0->paddlehub==2.1.1) (3.9.9)\n",
      "Requirement already satisfied: future>=0.6.0 in /opt/conda/envs/python35-paddle120-env/lib/python3.7/site-packages (from bce-python-sdk->visualdl>=2.0.0->paddlehub==2.1.1) (0.18.0)\n",
      "Requirement already satisfied: dill>=0.3.3 in /opt/conda/envs/python35-paddle120-env/lib/python3.7/site-packages (from multiprocess->paddlenlp>=2.0.0rc5->paddlehub==2.1.1) (0.3.3)\n",
      "Requirement already satisfied: nodeenv>=0.11.1 in /opt/conda/envs/python35-paddle120-env/lib/python3.7/site-packages (from pre-commit->visualdl>=2.0.0->paddlehub==2.1.1) (1.3.4)\n",
      "Requirement already satisfied: virtualenv>=15.2 in /opt/conda/envs/python35-paddle120-env/lib/python3.7/site-packages (from pre-commit->visualdl>=2.0.0->paddlehub==2.1.1) (16.7.9)\n",
      "Requirement already satisfied: toml in /opt/conda/envs/python35-paddle120-env/lib/python3.7/site-packages (from pre-commit->visualdl>=2.0.0->paddlehub==2.1.1) (0.10.0)\n",
      "Requirement already satisfied: identify>=1.0.0 in /opt/conda/envs/python35-paddle120-env/lib/python3.7/site-packages (from pre-commit->visualdl>=2.0.0->paddlehub==2.1.1) (1.4.10)\n",
      "Requirement already satisfied: aspy.yaml in /opt/conda/envs/python35-paddle120-env/lib/python3.7/site-packages (from pre-commit->visualdl>=2.0.0->paddlehub==2.1.1) (1.3.0)\n",
      "Requirement already satisfied: cfgv>=2.0.0 in /opt/conda/envs/python35-paddle120-env/lib/python3.7/site-packages (from pre-commit->visualdl>=2.0.0->paddlehub==2.1.1) (2.0.1)\n",
      "Requirement already satisfied: scikit-learn>=0.21.3 in /opt/conda/envs/python35-paddle120-env/lib/python3.7/site-packages (from seqeval->paddlenlp>=2.0.0rc5->paddlehub==2.1.1) (0.24.2)\n",
      "Requirement already satisfied: zipp>=0.5 in /opt/conda/envs/python35-paddle120-env/lib/python3.7/site-packages (from importlib-metadata<4.3->flake8>=3.7.9->visualdl>=2.0.0->paddlehub==2.1.1) (3.7.0)\n",
      "Requirement already satisfied: joblib>=0.11 in /opt/conda/envs/python35-paddle120-env/lib/python3.7/site-packages (from scikit-learn>=0.21.3->seqeval->paddlenlp>=2.0.0rc5->paddlehub==2.1.1) (0.14.1)\n",
      "Requirement already satisfied: scipy>=0.19.1 in /opt/conda/envs/python35-paddle120-env/lib/python3.7/site-packages (from scikit-learn>=0.21.3->seqeval->paddlenlp>=2.0.0rc5->paddlehub==2.1.1) (1.6.3)\n",
      "Requirement already satisfied: threadpoolctl>=2.0.0 in /opt/conda/envs/python35-paddle120-env/lib/python3.7/site-packages (from scikit-learn>=0.21.3->seqeval->paddlenlp>=2.0.0rc5->paddlehub==2.1.1) (2.1.0)\n",
      "Installing collected packages: onnx, paddle2onnx, paddlehub\n",
      "  Attempting uninstall: paddlehub\n",
      "    Found existing installation: paddlehub 2.0.4\n",
      "    Uninstalling paddlehub-2.0.4:\n",
      "      Successfully uninstalled paddlehub-2.0.4\n",
      "Successfully installed onnx-1.9.0 paddle2onnx-0.9.1 paddlehub-2.1.1\n",
      "\u001b[33mWARNING: You are using pip version 21.3.1; however, version 22.0.3 is available.\n",
      "You should consider upgrading via the '/opt/conda/envs/python35-paddle120-env/bin/python -m pip install --upgrade pip' command.\u001b[0m\n",
      "Looking in indexes: https://pypi.tuna.tsinghua.edu.cn/simple\n",
      "Collecting paddle-ernie\n",
      "  Downloading https://pypi.tuna.tsinghua.edu.cn/packages/d4/09/027ad18a04a43737d74c2e158952e7c268c84ae9d2e60ce32a258100c9b3/paddle-ernie-0.2.0.dev1.tar.gz (33 kB)\n",
      "  Preparing metadata (setup.py) ... \u001b[?25ldone\n",
      "\u001b[?25hRequirement already satisfied: requests in /opt/conda/envs/python35-paddle120-env/lib/python3.7/site-packages (from paddle-ernie) (2.24.0)\n",
      "Requirement already satisfied: tqdm in /opt/conda/envs/python35-paddle120-env/lib/python3.7/site-packages (from paddle-ernie) (4.27.0)\n",
      "Collecting pathlib2\n",
      "  Downloading https://pypi.tuna.tsinghua.edu.cn/packages/09/eb/4af4bcd5b8731366b676192675221c5324394a580dfae469d498313b5c4a/pathlib2-2.3.7.post1-py2.py3-none-any.whl (18 kB)\n",
      "Requirement already satisfied: six in /opt/conda/envs/python35-paddle120-env/lib/python3.7/site-packages (from pathlib2->paddle-ernie) (1.16.0)\n",
      "Requirement already satisfied: urllib3!=1.25.0,!=1.25.1,<1.26,>=1.21.1 in /opt/conda/envs/python35-paddle120-env/lib/python3.7/site-packages (from requests->paddle-ernie) (1.25.6)\n",
      "Requirement already satisfied: certifi>=2017.4.17 in /opt/conda/envs/python35-paddle120-env/lib/python3.7/site-packages (from requests->paddle-ernie) (2019.9.11)\n",
      "Requirement already satisfied: idna<3,>=2.5 in /opt/conda/envs/python35-paddle120-env/lib/python3.7/site-packages (from requests->paddle-ernie) (2.8)\n",
      "Requirement already satisfied: chardet<4,>=3.0.2 in /opt/conda/envs/python35-paddle120-env/lib/python3.7/site-packages (from requests->paddle-ernie) (3.0.4)\n",
      "Building wheels for collected packages: paddle-ernie\n",
      "  Building wheel for paddle-ernie (setup.py) ... \u001b[?25ldone\n",
      "\u001b[?25h  Created wheel for paddle-ernie: filename=paddle_ernie-0.2.0.dev1-py3-none-any.whl size=25548 sha256=d4b5c4d249b94d519c336c239d6b02540ff195f22f19e7161aa04939b5199c93\n",
      "  Stored in directory: /home/aistudio/.cache/pip/wheels/cf/b5/ea/1dc4bdb751cd206d020538bf525ff58d5a52fc4e0df4531123\n",
      "Successfully built paddle-ernie\n",
      "Installing collected packages: pathlib2, paddle-ernie\n",
      "Successfully installed paddle-ernie-0.2.0.dev1 pathlib2-2.3.7.post1\n",
      "\u001b[33mWARNING: You are using pip version 21.3.1; however, version 22.0.3 is available.\n",
      "You should consider upgrading via the '/opt/conda/envs/python35-paddle120-env/bin/python -m pip install --upgrade pip' command.\u001b[0m\n"
     ]
    }
   ],
   "source": [
    "!pip install paddlehub==2.1.1\r\n",
    "!pip install paddle-ernie"
   ]
  },
  {
   "cell_type": "markdown",
   "metadata": {
    "collapsed": false
   },
   "source": [
    "# 模型训练\r\n",
    "## 数据处理\r\n",
    "ERNIE-GEN模型要求的数据输入格式是：编号\\t文本1\\t文本2的格式，和原数据格式不符合，故先对数据进行处理"
   ]
  },
  {
   "cell_type": "code",
   "execution_count": 3,
   "metadata": {
    "collapsed": false
   },
   "outputs": [
    {
     "name": "stdout",
     "output_type": "stream",
     "text": [
      "训练集数据量：5001, 验证集数据量：39908\n",
      "\n",
      "训练集数据样例：\n",
      " qid_5982723620932473219\t人站在地球上为什么没有头朝下的感觉 \t地球上重力作用一直是指向球心的，因此只要头远离球心，人们就回感到头朝上。\n"
     ]
    }
   ],
   "source": [
    "# 2. 处理数据格式\r\n",
    "# 根据模型要求，处理成：编号\\t问题\\t答案的形式\r\n",
    "import json\r\n",
    "\r\n",
    "def resave_2txt(raw_path, raw_encod, save_path, save_encod, max_len=None):\r\n",
    "    try:\r\n",
    "        max_len = int(max_len)\r\n",
    "    except:\r\n",
    "        max_len = float('inf')\r\n",
    "    tmp_len = 0\r\n",
    "    save_txt = []\r\n",
    "    with open(raw_path,'r',encoding=raw_encod) as f:\r\n",
    "        for line in f.readlines():\r\n",
    "            dic_v = json.loads(line)\r\n",
    "            txt_line = dic_v['qid'] + '\\t' + dic_v['title'].replace('\\n','').replace('\\r','')  + '\\t' + dic_v['answer'].replace('\\n','').replace('\\r','')\r\n",
    "            if len(txt_line)>500:\r\n",
    "                pass\r\n",
    "            else:\r\n",
    "                if tmp_len <= max_len:\r\n",
    "                    save_txt.append(txt_line)\r\n",
    "                    tmp_len += 1\r\n",
    "                    with open(save_path, 'a+', encoding=save_encod) as f:\r\n",
    "                        f.write(txt_line + '\\n')\r\n",
    "                else:\r\n",
    "                    break\r\n",
    "    \r\n",
    "    return save_txt\r\n",
    "\r\n",
    "\r\n",
    "train_txt = resave_2txt('data/data107726/baike_qa_train.json', 'utf-8', 'data/data107726/baike_qa_train.txt', 'utf-8', 5000)\r\n",
    "valid_txt = resave_2txt('data/data107726/baike_qa_valid.json', 'utf-8', 'data/data107726/baike_qa_valid.txt', 'utf-8')\r\n",
    "print(f'训练集数据量：{len(train_txt)}, 验证集数据量：{len(valid_txt)}\\n')\r\n",
    "print('训练集数据样例：\\n', train_txt[0])"
   ]
  },
  {
   "cell_type": "markdown",
   "metadata": {
    "collapsed": false
   },
   "source": [
    "## 模型训练\r\n",
    "由于对自己的要求是使用已有套件，初步实现目的。除了报错之外，对于参数暂时没有太多研究。\r\n",
    "\r\n",
    "训练时发现的报错有：\r\n",
    "1. 数据集的处理：一些问题回复本身含\\n，需要替换成其他字符，否则保存数据的时候，\\n之后的数据单独为一条记录，不符合要求的数据格式(编号\\t文本\\t文本)\r\n",
    "2. max_encode_len(int)最长编码长度 和  max_decode_len(int) 最长解码长度，受输入的数据长度影响，若数据长度较长，而此处设置的比较小，则会报错\r\n",
    "3. batch_size：有一些报错会提出需要调小batch_size\r\n"
   ]
  },
  {
   "cell_type": "code",
   "execution_count": 4,
   "metadata": {
    "collapsed": false
   },
   "outputs": [
    {
     "name": "stderr",
     "output_type": "stream",
     "text": [
      "/opt/conda/envs/python35-paddle120-env/lib/python3.7/site-packages/matplotlib/__init__.py:107: DeprecationWarning: Using or importing the ABCs from 'collections' instead of from 'collections.abc' is deprecated, and in 3.8 it will stop working\n",
      "  from collections import MutableMapping\n",
      "/opt/conda/envs/python35-paddle120-env/lib/python3.7/site-packages/matplotlib/rcsetup.py:20: DeprecationWarning: Using or importing the ABCs from 'collections' instead of from 'collections.abc' is deprecated, and in 3.8 it will stop working\n",
      "  from collections import Iterable, Mapping\n",
      "/opt/conda/envs/python35-paddle120-env/lib/python3.7/site-packages/matplotlib/colors.py:53: DeprecationWarning: Using or importing the ABCs from 'collections' instead of from 'collections.abc' is deprecated, and in 3.8 it will stop working\n",
      "  from collections import Sized\n"
     ]
    },
    {
     "name": "stdout",
     "output_type": "stream",
     "text": [
      "Download https://bj.bcebos.com/paddlehub/paddlehub_dev/ernie_gen_1.1.0.tar.gz\n",
      "[##################################################] 100.00%\n",
      "Decompress /home/aistudio/.paddlehub/tmp/tmpf22fac_k/ernie_gen_1.1.0.tar.gz\n",
      "[##################################################] 100.00%\n"
     ]
    },
    {
     "name": "stderr",
     "output_type": "stream",
     "text": [
      "[2022-02-25 18:59:56,338] [    INFO] - Successfully installed ernie_gen-1.1.0\n",
      "[2022-02-25 18:59:56,340] [    INFO] - Downloading https://paddlenlp.bj.bcebos.com/models/transformers/ernie/vocab.txt and saved to /home/aistudio/.paddlenlp/models/ernie-1.0\n",
      "[2022-02-25 18:59:56,343] [    INFO] - Downloading vocab.txt from https://paddlenlp.bj.bcebos.com/models/transformers/ernie/vocab.txt\n",
      "100%|██████████| 90/90 [00:00<00:00, 2408.92it/s]\n",
      "[2022-02-25 18:59:56,509] [    INFO] - Downloading https://paddlenlp.bj.bcebos.com/models/transformers/ernie/ernie_v1_chn_base.pdparams and saved to /home/aistudio/.paddlenlp/models/ernie-1.0\n",
      "100%|██████████| 392507/392507 [00:12<00:00, 32667.66it/s]\n",
      "[2022-02-25 19:00:08,652] [   DEBUG] - init ErnieModel with config: {'attention_probs_dropout_prob': 0.1, 'hidden_act': 'relu', 'hidden_dropout_prob': 0.1, 'hidden_size': 768, 'initializer_range': 0.02, 'max_position_embeddings': 513, 'num_attention_heads': 12, 'num_hidden_layers': 12, 'type_vocab_size': 2, 'vocab_size': 18000, 'pad_token_id': 0}\n",
      "W0225 19:00:08.656064   102 device_context.cc:447] Please NOTE: device: 0, GPU Compute Capability: 7.0, Driver API Version: 10.1, Runtime API Version: 10.1\n",
      "W0225 19:00:08.661098   102 device_context.cc:465] device: 0, cuDNN Version: 7.6.\n",
      "[2022-02-25 19:00:13,477] [    INFO] - loading pretrained model from /home/aistudio/.paddlenlp/models/ernie-1.0/ernie_v1_chn_base.pdparams\n",
      "[2022-02-25 19:00:14,392] [    INFO] - param:mlm_bias not set in pretrained model, skip\n",
      "[2022-02-25 19:00:14,397] [    INFO] - param:mlm.weight not set in pretrained model, skip\n",
      "[2022-02-25 19:00:14,399] [    INFO] - param:mlm.bias not set in pretrained model, skip\n",
      "[2022-02-25 19:00:14,401] [    INFO] - param:mlm_ln.weight not set in pretrained model, skip\n",
      "[2022-02-25 19:00:14,402] [    INFO] - param:mlm_ln.bias not set in pretrained model, skip\n",
      "[2022-02-25 19:00:18,098] [    INFO] - [step 20 / 200]train loss 30.90807, ppl 26497549074432.00000, elr 5.000e-05\n",
      "[2022-02-25 19:00:21,195] [    INFO] - [step 40 / 200]train loss 14.20288, ppl 1473101.87500, elr 4.444e-05\n",
      "[2022-02-25 19:00:24,302] [    INFO] - [step 60 / 200]train loss 11.93342, ppl 152270.89062, elr 3.889e-05\n",
      "[2022-02-25 19:00:27,569] [    INFO] - [step 80 / 200]train loss 11.08933, ppl 65469.16016, elr 3.333e-05\n",
      "[2022-02-25 19:00:30,735] [    INFO] - [step 100 / 200]train loss 10.18496, ppl 26501.47070, elr 2.778e-05\n",
      "[2022-02-25 19:00:33,985] [    INFO] - [step 120 / 200]train loss 9.68675, ppl 16102.84668, elr 2.222e-05\n",
      "[2022-02-25 19:00:37,031] [    INFO] - [step 140 / 200]train loss 8.94765, ppl 7689.82129, elr 1.667e-05\n",
      "[2022-02-25 19:00:40,041] [    INFO] - [step 160 / 200]train loss 22.43311, ppl 5528075264.00000, elr 1.111e-05\n",
      "[2022-02-25 19:00:43,232] [    INFO] - [step 180 / 200]train loss 9.26795, ppl 10593.01465, elr 5.556e-06\n",
      "[2022-02-25 19:00:46,310] [    INFO] - [step 200 / 200]train loss 11.75595, ppl 127509.62500, elr 0.000e+00\n",
      "[2022-02-25 19:00:46,313] [    INFO] - save the model in ernie_gen_result/step_200_ppl_127509.62500.params\n"
     ]
    }
   ],
   "source": [
    "# 3.训练模型\r\n",
    "# 暂时无脑先走流程，流程走完再调具体\r\n",
    "# 具体流程和参数可参考链接：https://aistudio.baidu.com/aistudio/projectdetail/1456984\r\n",
    "# 大神链接(可能是版本问题，运行报错)：\r\n",
    "\r\n",
    "import paddlehub as hub\r\n",
    "module = hub.Module(name=\"ernie_gen\")\r\n",
    "\r\n",
    "result = module.finetune(\r\n",
    "    use_gpu = True,\r\n",
    "    train_path='data/data107726/baike_qa_train.txt',\r\n",
    "    # dev_path='data/data107726/baike_qa_valid.txt',\r\n",
    "    save_dir=\"ernie_gen_result\",\r\n",
    "    max_steps=200,\r\n",
    "    max_encode_len=1024,\r\n",
    "    max_decode_len=1024,\r\n",
    "    noise_prob=0.2,\r\n",
    "    batch_size=2,\r\n",
    "    log_interval=20\r\n",
    ")"
   ]
  },
  {
   "cell_type": "code",
   "execution_count": 5,
   "metadata": {
    "collapsed": false
   },
   "outputs": [
    {
     "name": "stdout",
     "output_type": "stream",
     "text": [
      "{'last_save_path': 'ernie_gen_result/step_200_ppl_127509.62500.params', 'last_ppl': 127509.625}\n"
     ]
    }
   ],
   "source": [
    "# 查看训练结束时的模型保存路径 和 模型困惑度\r\n",
    "print(result)"
   ]
  },
  {
   "cell_type": "code",
   "execution_count": 6,
   "metadata": {
    "collapsed": false
   },
   "outputs": [
    {
     "name": "stderr",
     "output_type": "stream",
     "text": [
      "[2022-02-25 19:00:58,325] [    INFO] - Begin export the model save in ernie_gen_result/step_200_ppl_127509.62500.params ...\n",
      "[2022-02-25 19:00:59,149] [    INFO] - The module has exported to /home/aistudio/ernie_gen_baikeqa\n"
     ]
    }
   ],
   "source": [
    "# 导出模型\r\n",
    "module.export(params_path=result['last_save_path'], module_name=\"ernie_gen_baikeqa\", author=\"zhuqianer\")"
   ]
  },
  {
   "cell_type": "code",
   "execution_count": 7,
   "metadata": {
    "collapsed": false
   },
   "outputs": [
    {
     "name": "stdout",
     "output_type": "stream",
     "text": [
      "/opt/conda/envs/python35-paddle120-env/lib/python3.7/site-packages/matplotlib/__init__.py:107: DeprecationWarning: Using or importing the ABCs from 'collections' instead of from 'collections.abc' is deprecated, and in 3.8 it will stop working\n",
      "  from collections import MutableMapping\n",
      "/opt/conda/envs/python35-paddle120-env/lib/python3.7/site-packages/matplotlib/rcsetup.py:20: DeprecationWarning: Using or importing the ABCs from 'collections' instead of from 'collections.abc' is deprecated, and in 3.8 it will stop working\n",
      "  from collections import Iterable, Mapping\n",
      "/opt/conda/envs/python35-paddle120-env/lib/python3.7/site-packages/matplotlib/colors.py:53: DeprecationWarning: Using or importing the ABCs from 'collections' instead of from 'collections.abc' is deprecated, and in 3.8 it will stop working\n",
      "  from collections import Sized\n",
      "[2022-02-25 19:01:07,336] [    INFO] - Successfully installed ernie_gen_baikeqa-1.0.0\n"
     ]
    }
   ],
   "source": [
    "# 安装module\r\n",
    "!hub install ernie_gen_baikeqa"
   ]
  },
  {
   "cell_type": "code",
   "execution_count": 9,
   "metadata": {
    "collapsed": false
   },
   "outputs": [
    {
     "name": "stdout",
     "output_type": "stream",
     "text": [
      "qid_1815059893214501395\t请问深入骨髓地喜欢一个人怎么办我不能确定对方是不是喜欢我，我却想 \t一定要告诉他你很喜欢他 很爱他!!  虽然不知道你和他现在的关系是什么！但如果真的觉得很喜欢就向他表白啊！！起码你努力过了！  女生主动多少占一点优势的！！呵呵  只愿曾经拥有！  到以后就算感情没现在这么强烈了也不会觉得遗憾啊~！  与其每天那么痛苦的想他 恋他 还不如直接告诉他 ！  不要怕回破坏你们现有的感情！因为如果不告诉他  你可能回后悔一辈子！！  \n"
     ]
    }
   ],
   "source": [
    "print(valid_txt[0])"
   ]
  },
  {
   "cell_type": "markdown",
   "metadata": {
    "collapsed": false
   },
   "source": [
    "## 模型预测\n",
    "可以看到，下面的预测结果什么都不是，无论输入什么，返回的都是这句话。\n",
    "\n",
    "可能是训练不足，或者是没有加入验证集进行训练？但是就算我输入训练集的部分字段还是同样的返回结果。重新进行训练又会报内存不足/建议减小batch_size，所以这是我目前唯一能拿的出手的东西了，虽然返回值莫名奇妙，但至少预测的时候没报错。"
   ]
  },
  {
   "cell_type": "code",
   "execution_count": 11,
   "metadata": {
    "collapsed": false
   },
   "outputs": [
    {
     "name": "stderr",
     "output_type": "stream",
     "text": [
      "[2022-02-25 19:02:08,520] [    INFO] - Already cached /home/aistudio/.paddlenlp/models/ernie-1.0/ernie_v1_chn_base.pdparams\n",
      "[2022-02-25 19:02:08,522] [   DEBUG] - init ErnieModel with config: {'attention_probs_dropout_prob': 0.1, 'hidden_act': 'relu', 'hidden_dropout_prob': 0.1, 'hidden_size': 768, 'initializer_range': 0.02, 'max_position_embeddings': 513, 'num_attention_heads': 12, 'num_hidden_layers': 12, 'type_vocab_size': 2, 'vocab_size': 18000, 'pad_token_id': 0}\n",
      "[2022-02-25 19:02:11,954] [    INFO] - loading pretrained model from /home/aistudio/.paddlenlp/models/ernie-1.0/ernie_v1_chn_base.pdparams\n",
      "[2022-02-25 19:02:12,793] [    INFO] - param:mlm_bias not set in pretrained model, skip\n",
      "[2022-02-25 19:02:12,796] [    INFO] - param:mlm.weight not set in pretrained model, skip\n",
      "[2022-02-25 19:02:12,797] [    INFO] - param:mlm.bias not set in pretrained model, skip\n",
      "[2022-02-25 19:02:12,799] [    INFO] - param:mlm_ln.weight not set in pretrained model, skip\n",
      "[2022-02-25 19:02:12,801] [    INFO] - param:mlm_ln.bias not set in pretrained model, skip\n",
      "[2022-02-25 19:02:13,946] [    INFO] - Already cached /home/aistudio/.paddlenlp/models/ernie-1.0/vocab.txt\n"
     ]
    },
    {
     "name": "stdout",
     "output_type": "stream",
     "text": [
      "['你是你你你你你的你你你你你你你你你你的的的的的的的的的的的的的的的的的的；；；；；；；；；；；；；；', '你是你你你你你的你你你你你你你你你你的的的的的的的的的的的的的的的的的的的的；；；；；；；；；；；；', '你是你你你你你的你你你你你你你你你你的的的的的的的的的的的的的的的的的的的；；；；；；；；；；；；；', '你是你你你你你的你你你你你你你你你你你的的的的的的的的的的的的的的的的的的的；；；；；；；；；；；；', '你是你你你你你的你你你你你你你你你你的的的的的的的的的的的的的的的的的的；；；；；；；；；；；；；的']\n"
     ]
    }
   ],
   "source": [
    "# 测试\r\n",
    "\r\n",
    "import paddlehub as hub\r\n",
    "\r\n",
    "module = hub.Module(name=\"ernie_gen_baikeqa\")\r\n",
    "\r\n",
    "test_texts = ['\"我爱你\"古文怎么说?']\r\n",
    "# generate包含3个参数，texts为输入文本列表，use_gpu指定是否使用gpu，beam_width指定beam search宽度。\r\n",
    "results = module.generate(texts=test_texts, use_gpu=False, beam_width=5)\r\n",
    "for result in results:\r\n",
    "    print(result)"
   ]
  },
  {
   "cell_type": "markdown",
   "metadata": {
    "collapsed": false
   },
   "source": [
    "## 个人总结\n",
    "在算法程序不断迭代的时代，没赶上时代的步伐，就不要走捷径。\n",
    "\n",
    "原本想要靠已有的套件和大神共享的脚本，直接套用得到一个初步结果，再进行后续的调优，但是结果一塌糊涂。\n",
    "首先是模型选择的问题，自己初步设想是返回相似度最高的问题的已有答案，但是选择了一个文本生成的模型（因为看到有人用这个去做，想走捷径）。\n",
    "然后是搜到的项目不能完全复刻结果，运行的时候报错，可能是软件包版本的问题。\n",
    "\n",
    "总结还是要了解模型之后，才能更好的运用它。\n",
    "\n",
    "好处是我对这个ERNIE模型产生了兴趣，后续一定要运行一个可执行的脚本来体验一下\n",
    "\n",
    "\n",
    "\n",
    "# 提交链接\n",
    "aistudio链接：https://aistudio.baidu.com/aistudio/projectdetail/3521598?contributionType=1\n",
    "\n",
    "github链接：\n",
    "\n",
    "gitee链接"
   ]
  },
  {
   "cell_type": "code",
   "execution_count": null,
   "metadata": {
    "collapsed": false
   },
   "outputs": [],
   "source": []
  },
  {
   "cell_type": "markdown",
   "metadata": {
    "collapsed": false
   },
   "source": [
    "请点击[此处](https://ai.baidu.com/docs#/AIStudio_Project_Notebook/a38e5576)查看本环境基本用法.  <br>\n",
    "Please click [here ](https://ai.baidu.com/docs#/AIStudio_Project_Notebook/a38e5576) for more detailed instructions. "
   ]
  }
 ],
 "metadata": {
  "kernelspec": {
   "display_name": "Python 3",
   "language": "python",
   "name": "py35-paddle1.2.0"
  },
  "language_info": {
   "codemirror_mode": {
    "name": "ipython",
    "version": 3
   },
   "file_extension": ".py",
   "mimetype": "text/x-python",
   "name": "python",
   "nbconvert_exporter": "python",
   "pygments_lexer": "ipython3",
   "version": "3.7.4"
  }
 },
 "nbformat": 4,
 "nbformat_minor": 1
}
